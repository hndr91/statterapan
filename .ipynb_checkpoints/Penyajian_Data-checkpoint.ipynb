{
 "cells": [
  {
   "cell_type": "markdown",
   "metadata": {
    "colab_type": "text",
    "graffitiCellId": "id_zkw9jme",
    "id": "view-in-github"
   },
   "source": [
    "<a href=\"https://colab.research.google.com/github/yogjay/StatistikaTerapan/blob/master/Penyajian_Data.ipynb\" target=\"_parent\"><img src=\"https://colab.research.google.com/assets/colab-badge.svg\" alt=\"Open In Colab\"/></a>"
   ]
  },
  {
   "cell_type": "code",
   "execution_count": 0,
   "metadata": {
    "colab": {},
    "colab_type": "code",
    "graffitiCellId": "id_0wzcb5k",
    "id": "kU65IxkAxAwP"
   },
   "outputs": [],
   "source": []
  },
  {
   "cell_type": "markdown",
   "metadata": {
    "colab_type": "text",
    "graffitiCellId": "id_4ri3gle",
    "id": "PM9BCIy50J_O"
   },
   "source": [
    "# **PENYAJIAN DATA**"
   ]
  },
  {
   "cell_type": "markdown",
   "metadata": {
    "colab_type": "text",
    "graffitiCellId": "id_r9msglh",
    "id": "YDJFHNWx0RFR"
   },
   "source": [
    "Salah satu pembahasan dalam statistika deskriptif adalah teknik penyajian data. Data yang sudah kita kumpulkan dan sudah kita peroleh seyogyanya terorganisasi dengan baik, sehingga dapat disajikan dengan baik pula. Data yang tersaji dengan baik dapat dipahami dan bermakna bagi pengguna."
   ]
  },
  {
   "cell_type": "markdown",
   "metadata": {
    "colab_type": "text",
    "graffitiCellId": "id_prjup2m",
    "id": "IZFttHZ03MQl"
   },
   "source": [
    "Jika data yang sudah diperoleh jumlahnya sangat banyak, maka cara yang baik untuk menganalisa nya adalah dengan mengorganisasi dan menyajikan data tersebut dalam bentuk yang ringkas dan padat. Sehingga membuat pengguna mudah dan cepat dalam membaca data tersebut. Organisasi data adalah proses penyusunan data di dalam kelompok atau kelas berdasarkan ciri-ciri terttentu. Berikut ini adalah tujuan organisasi data:\n",
    "1.   Meringkas data mentah untuk tujuan analisis statistika\n",
    "2.   Mengurangi maslah kompleksitas data dan menyajikan sifat-sifat data\n",
    "3.   Memudahkan untuk perbandingan dan membuat kesimpulan tentang data\n",
    "4.   Menyediakan informasi tentang hubungan antara elemen di dalam sekelompok data\n",
    "5.   Memudahkan kita dalam memisahkan elemen data ke dalam kelompok yang sama dan kemudian bisa mengelompokkan berdasarkan kesamaan dan ketidaksamaan elemen tersebut\n",
    "\n",
    "(Agus Widarjono)\n",
    "\n",
    "\n",
    "\n",
    "\n",
    "\n",
    "\n",
    "\n"
   ]
  },
  {
   "cell_type": "markdown",
   "metadata": {
    "colab_type": "text",
    "graffitiCellId": "id_vrtpa2h",
    "id": "k-tzjowc8Rjs"
   },
   "source": [
    "Data disajikan dalam 2 bentuk, yakni:\n",
    "\n",
    "1.   Tabulasi\n",
    "2.   Grafis\n",
    "\n"
   ]
  },
  {
   "cell_type": "markdown",
   "metadata": {
    "colab_type": "text",
    "graffitiCellId": "id_4bdy6vg",
    "id": "2D59ErA88de7"
   },
   "source": [
    "## **Tabulasi**"
   ]
  },
  {
   "cell_type": "markdown",
   "metadata": {
    "colab_type": "text",
    "graffitiCellId": "id_j5m3bkb",
    "id": "OGPkABXQ8iZI"
   },
   "source": [
    "Penyajian data dalam bentuk tabulasi adalah penyajian data kedalam bentuk tabel. Sebelum membahas tentang penyajiannya, maka yang perlu dibahas adalah bagaimana cara untuk mengorganisasi data. Salah satu teknik yang digunakan untuk mengorganisasi data adalah distribusi frekuensi (*frequency distribution*)."
   ]
  },
  {
   "cell_type": "markdown",
   "metadata": {
    "colab_type": "text",
    "graffitiCellId": "id_uwrayia",
    "id": "n5rbur52-tUT"
   },
   "source": [
    "### **Distribusi Frekuensi**"
   ]
  },
  {
   "cell_type": "markdown",
   "metadata": {
    "colab_type": "text",
    "graffitiCellId": "id_ckgfgpr",
    "id": "8d8KgSK4-yJj"
   },
   "source": [
    "Untuk membentuk distribusi frekuensi akan dijelaskan dengan contoh berikut. Terdapat data nilai ujian dari 150 mahasiswa,\n",
    "\n",
    "|||||||||||\n",
    "|--- |--- |--- |--- |--- |--- |--- |--- |--- |--- |\n",
    "|27|79|69|40|51|88|55|48|36|61|\n",
    "|53|44|93|51|65|42|58|55|69|63|\n",
    "|70|48|61|55|60|25|47|78|61|54|\n",
    "|57|76|73|62|36|67|40|51|59|68|\n",
    "|27|46|62|43|54|83|59|13|72|57|\n",
    "|82|45|54|52|71|53|82|69|60|35|\n",
    "|41|65|62|75|60|42|55|34|49|45|\n",
    "|49|64|40|61|73|44|59|46|71|86|\n",
    "|43|69|54|31|36|51|75|44|66|53|\n",
    "|80|71|53|56|91|60|41|29|56|57|\n",
    "|35|54|43|39|56|27|62|44|85|61|\n",
    "|59|89|60|51|71|53|58|26|77|68|\n",
    "|62|57|48|69|76|52|49|45|54|41|\n",
    "|33|61|80|57|42|45|59|44|68|73|\n",
    "|55|70|39|59|69|51|85|46|55|67|\n",
    "\t\t\t\t\t\t\t\t\t\t\t\t\t\t\t\t\t\t\t\n",
    "<br>\n",
    "Berikut ini adalah langkah-langkah dalam membentuk distribusi frekuensi: <br>\n",
    "**1. Menentukan Jumlah Kelas Interval**<br>\n",
    "Untuk menentukan kelas interval (K), gunakan persamaan ini:<br>\n",
    "$K=1+3,3 \\log_{}{n}$ <br>\n",
    "Sesuai contoh kasus di atas, maka $K=1+3,3 \\log_{}{150}$ = 1+ 3,3 . 2,18 = 8,19<br>\n",
    "Jadi jumlah kelas interval 8 atau 9. Pada kesempatan ini digunakan 9 kelas.\n",
    "<br>\n",
    "\n",
    "**2. Menghitung Rentang Data**<br>\n",
    "Untuk menghitung rentang data, caranya adalah data terbesar dikurangi data terkecil kemudian ditambah 1. Data terbesar adalah 93, dan data terkecil adalah 13. <br>Jadi 93-13+1 = 81<br>\n",
    "\n",
    "**3. Menghitung Panjang Kelas**<br>\n",
    "Untuk menghitung Panjang Kelas, caranya adalah **Rentang Data dibagi Jumlah Kelas Interval** sehingga: 81 / 9 = 9. Walaupun dari hitungan panjang kelas yang diperoleh adalah 9, tetapi pada penyusunan tabel ini digunakan panjang kelas 10. Supaya nilai batas bawah semua berakhir nol dan batas atas 9. Hal ini akan lebih komunikatif bila dibandingkan dengan menggunkan panjang kelas 9.<br>\n",
    "\n",
    "**4. Menyusun Interval Kelas**<br>\n",
    "Secara teoritis penyusunan kelas interval dimulai dari data yang terkecil, yakni 13. Tetapi agar lebih kominikatif, maka dimulai dengan angka 10. <br>\n",
    "\n",
    "**5. Menghitung Frekuensi Menggunakan Tally**<br>\n",
    "Setelah Kelas Interval tersusun, selanjutnya memasukkan data satu per satu mulai awal hingga akhir sesuai Kelas Intervalnya, yakni dengan menandai menggunakan Tally (<s>||||</s> ||). Misalnya apabila bertemu data 13, maka pada Kelas Interval ke-1 diberi Tally, jika bertemu data 72 maka pada Kelas Interval ke-7 diberi Tally. Begitu seterusnya sampai 150 data. Sehingga diperoleh data seperti tabel di bawah ini. Apabila semua data telah dimasukkan, kolom Tally bisa dihapus. \n",
    "\n",
    "||||\n",
    "|--- |--- |--- |\n",
    "|**No. Kelas**|**Kelas Interval**|**Frekuensi (f)**|\n",
    "|1|10 - 19|1|\n",
    "|2|20 - 29|6|\n",
    "|3|30 - 39|9|\n",
    "|4|40 - 49|31|\n",
    "|5|50 - 59|42|\n",
    "|6|60 - 69|32|\n",
    "|7|70 - 79|17|\n",
    "|8|80 - 89|10|\n",
    "|9|90 - 99|2|\n",
    "\n",
    "<br>\n",
    "\n",
    "\n",
    "\n",
    "\n",
    "\n",
    "\n",
    "\n"
   ]
  },
  {
   "cell_type": "markdown",
   "metadata": {
    "colab_type": "text",
    "graffitiCellId": "id_ggacr7z",
    "id": "BWfAkhf_y_oP"
   },
   "source": [
    "## **Grafis**"
   ]
  },
  {
   "cell_type": "markdown",
   "metadata": {
    "colab_type": "text",
    "graffitiCellId": "id_7vs1fa9",
    "id": "dJ3UuoAZzlya"
   },
   "source": [
    "Selain tabel, data disajikan dalam bentuk grafis. Dalam penyajian grafis ini, data disajikan dalam bentuk gambar. Terdapat dua macam penyajian grafis, yakni dalam bentuk grafik dan diagram.<br>\n",
    "\n",
    "\n",
    "1.   **Grafik** - digunakan untuk meyajikan data yang menunjukkan hubungan 2 variabel. Misalnya hubungan variabel jumlah dan variabel waktu.\n",
    "2.   **Diagram** - digunakan untuk menunjukkan perbandingan data dari berbagai kelompok, biasanya disajikan dalam bentuk perbandingan persentase.\n",
    "\n"
   ]
  },
  {
   "cell_type": "markdown",
   "metadata": {
    "colab_type": "text",
    "graffitiCellId": "id_uhtdfa3",
    "id": "4EfrQRzLzGdE"
   },
   "source": [
    "###**Grafik Garis**"
   ]
  },
  {
   "cell_type": "markdown",
   "metadata": {
    "colab_type": "text",
    "graffitiCellId": "id_x7zj7uy",
    "id": "Z91hlneO3YAa"
   },
   "source": [
    "![alt text](https://files.dafacto.com/uploads/better-20110401-125648.png)"
   ]
  },
  {
   "cell_type": "markdown",
   "metadata": {
    "colab_type": "text",
    "graffitiCellId": "id_m7e282a",
    "id": "QuxsBIjFzUQx"
   },
   "source": [
    "### **Diagram Batang**"
   ]
  },
  {
   "cell_type": "markdown",
   "metadata": {
    "colab_type": "text",
    "graffitiCellId": "id_2xhrojr",
    "id": "7S3IWRTy3bPQ"
   },
   "source": [
    "![alt text](https://files.dafacto.com/uploads/original-20110401-130553.png)"
   ]
  },
  {
   "cell_type": "markdown",
   "metadata": {
    "colab_type": "text",
    "graffitiCellId": "id_ek85v39",
    "id": "Tj8NP9KCzYNR"
   },
   "source": [
    "### **Diagram Lingkaran**"
   ]
  },
  {
   "cell_type": "markdown",
   "metadata": {
    "colab_type": "text",
    "graffitiCellId": "id_8inj3u8",
    "id": "gW3kpJCQ3_PJ"
   },
   "source": [
    "![alt text](https://kevinanderson.nl/wp-content/uploads/2015/01/smartphone-activations.jpg)"
   ]
  }
 ],
 "metadata": {
  "colab": {
   "collapsed_sections": [],
   "include_colab_link": true,
   "name": "Penyajian Data.ipynb",
   "provenance": [],
   "version": "0.3.2"
  },
  "graffiti": {
   "firstAuthorId": "dev",
   "id": "id_wq0d4uw",
   "language": "EN"
  },
  "kernelspec": {
   "display_name": "Python 3",
   "language": "python",
   "name": "python3"
  },
  "language_info": {
   "codemirror_mode": {
    "name": "ipython",
    "version": 3
   },
   "file_extension": ".py",
   "mimetype": "text/x-python",
   "name": "python",
   "nbconvert_exporter": "python",
   "pygments_lexer": "ipython3",
   "version": "3.7.3"
  }
 },
 "nbformat": 4,
 "nbformat_minor": 1
}

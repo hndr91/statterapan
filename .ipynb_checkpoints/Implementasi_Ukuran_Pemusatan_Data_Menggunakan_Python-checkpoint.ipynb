{
 "cells": [
  {
   "cell_type": "markdown",
   "metadata": {
    "colab_type": "text",
    "graffitiCellId": "id_qfgj0mj",
    "id": "view-in-github"
   },
   "source": [
    "<a href=\"https://colab.research.google.com/github/mnindrazaka/StatistikaTerapan/blob/master/Implementasi_Ukuran_Pemusatan_Data_Menggunakan_Python.ipynb\" target=\"_parent\"><img src=\"https://colab.research.google.com/assets/colab-badge.svg\" alt=\"Open In Colab\"/></a>"
   ]
  },
  {
   "cell_type": "markdown",
   "metadata": {
    "colab_type": "text",
    "graffitiCellId": "id_7e3c5eg",
    "id": "Px1s1FjrhJZK"
   },
   "source": [
    "# Implementasi Ukuran Pemusatan Data Menggunakan Python\n",
    "\n",
    "## 1. Mean\n",
    "\n",
    "### 1.1 Manual\n",
    "\n",
    "Berikut contoh implementasi bagaimana mencari mean pada python tanpa menggunakan library"
   ]
  },
  {
   "cell_type": "code",
   "execution_count": 27,
   "metadata": {
    "colab": {
     "base_uri": "https://localhost:8080/",
     "height": 35
    },
    "colab_type": "code",
    "graffitiCellId": "id_51w6ewt",
    "id": "hD59kipDjmwA",
    "outputId": "20fabd56-75bd-4069-db17-690561a62be9"
   },
   "outputs": [
    {
     "name": "stdout",
     "output_type": "stream",
     "text": [
      "mean dari data tersebut adalah 3.0\n"
     ]
    }
   ],
   "source": [
    "data = [1, 2, 3, 4, 5] \n",
    "mean = sum(data) / len(data) \n",
    "  \n",
    "print(\"mean dari data tersebut adalah \" + str(mean)) "
   ]
  },
  {
   "cell_type": "markdown",
   "metadata": {
    "colab_type": "text",
    "graffitiCellId": "id_ieg1mrx",
    "id": "_NE_j3Zcjpoy"
   },
   "source": [
    "### 1.2 Menggunakan Library Statistics\n",
    "\n",
    "Berikut contoh implementasi bagaimana mencari mean pada python menggunakan library statistics"
   ]
  },
  {
   "cell_type": "code",
   "execution_count": 13,
   "metadata": {
    "colab": {
     "base_uri": "https://localhost:8080/",
     "height": 35
    },
    "colab_type": "code",
    "graffitiCellId": "id_kdpuqhc",
    "id": "LK7JCZlRjs_T",
    "outputId": "c382e63c-65f6-4e75-8af5-df199a500374"
   },
   "outputs": [
    {
     "name": "stdout",
     "output_type": "stream",
     "text": [
      "mean dari data tersebut adalah  3\n"
     ]
    }
   ],
   "source": [
    "import statistics as stat\n",
    "\n",
    "data=[1, 2, 3, 4, 5]\n",
    "\n",
    "print(\"mean dari data tersebut adalah \", stat.mean(data))"
   ]
  },
  {
   "cell_type": "markdown",
   "metadata": {
    "colab_type": "text",
    "graffitiCellId": "id_ub7om1b",
    "id": "Ga0bpYwYjv4R"
   },
   "source": [
    "## 2. Median\n",
    "\n",
    "### 2.1 Manual\n",
    "\n",
    "Berikut contoh implementasi bagaimana mencari median pada python tanpa menggunakan library"
   ]
  },
  {
   "cell_type": "code",
   "execution_count": 25,
   "metadata": {
    "colab": {
     "base_uri": "https://localhost:8080/",
     "height": 35
    },
    "colab_type": "code",
    "graffitiCellId": "id_nr0bkt1",
    "id": "5jEE9oxgjyST",
    "outputId": "a3cb3ea8-c773-4dc3-c507-6c5f14faa267"
   },
   "outputs": [
    {
     "name": "stdout",
     "output_type": "stream",
     "text": [
      "median dari data tersebut adalah 3\n"
     ]
    }
   ],
   "source": [
    "data = [1, 2, 3, 4, 5] \n",
    "length = len(data) \n",
    "data.sort() \n",
    "  \n",
    "if length % 2 == 0: \n",
    "    median1 = data[int(length / 2)] \n",
    "    median2 = data[int(length / 2) - 1] \n",
    "    median = (median1 + median2) / 2\n",
    "else: \n",
    "    median = data[int(length / 2)] \n",
    "print(\"median dari data tersebut adalah \" + str(median)) "
   ]
  },
  {
   "cell_type": "markdown",
   "metadata": {
    "colab_type": "text",
    "graffitiCellId": "id_xionk4d",
    "id": "qUBs8g_Qj0jM"
   },
   "source": [
    "### 2.2 Menggunakan Library Statistics\n",
    "\n",
    "Berikut contoh implementasi bagaimana mencari median pada python menggunakan library statistics"
   ]
  },
  {
   "cell_type": "code",
   "execution_count": 9,
   "metadata": {
    "colab": {
     "base_uri": "https://localhost:8080/",
     "height": 35
    },
    "colab_type": "code",
    "graffitiCellId": "id_baj6234",
    "id": "hEnrJl0HqWTF",
    "outputId": "14efaf69-e0ad-4c9a-93c9-bed5c17a0717"
   },
   "outputs": [
    {
     "name": "stdout",
     "output_type": "stream",
     "text": [
      "Median:  3.0\n"
     ]
    }
   ],
   "source": [
    "import statistics as stat\n",
    "\n",
    "data=[1, 2, 3, 4, 5]\n",
    "\n",
    "print(\"median dari data tersebut adalah \", stat.median(data))"
   ]
  },
  {
   "cell_type": "markdown",
   "metadata": {
    "colab_type": "text",
    "graffitiCellId": "id_vvb2xal",
    "id": "W7Ebzd7YqYA1"
   },
   "source": [
    "## 3. Modus\n",
    "\n",
    "### 3.1 Manual\n",
    "\n",
    "Berikut contoh implementasi bagaimana mencari modus pada python tanpa menggunakan library\n"
   ]
  },
  {
   "cell_type": "code",
   "execution_count": 26,
   "metadata": {
    "colab": {
     "base_uri": "https://localhost:8080/",
     "height": 35
    },
    "colab_type": "code",
    "graffitiCellId": "id_n1evsgm",
    "id": "ZzG2UIURqZ8G",
    "outputId": "913d4a68-2149-4e85-e89c-1ed462dda395"
   },
   "outputs": [
    {
     "name": "stdout",
     "output_type": "stream",
     "text": [
      "modus dari data tersebut adalah 5\n"
     ]
    }
   ],
   "source": [
    "from collections import Counter \n",
    "  \n",
    "# list of elements to calculate mode \n",
    "n_num = [1, 2, 3, 4, 5, 5] \n",
    "n = len(n_num) \n",
    "  \n",
    "data = Counter(n_num) \n",
    "get_mode = dict(data) \n",
    "mode = [k for k, v in get_mode.items() if v == max(list(data.values()))] \n",
    "  \n",
    "if len(mode) == n: \n",
    "    get_mode = \"modus tidak ditemukan\"\n",
    "else: \n",
    "    get_mode = \"modus dari data tersebut adalah \" + ', '.join(map(str, mode)) \n",
    "      \n",
    "print(get_mode) "
   ]
  },
  {
   "cell_type": "markdown",
   "metadata": {
    "colab_type": "text",
    "graffitiCellId": "id_w3y5etu",
    "id": "WqJnzI20qadP"
   },
   "source": [
    "### 3.2 Menggunakan Library Statistics\n",
    "\n",
    "Berikut contoh implementasi bagaimana mencari modus pada python menggunakan library statistics\n",
    "\n"
   ]
  },
  {
   "cell_type": "code",
   "execution_count": 15,
   "metadata": {
    "colab": {
     "base_uri": "https://localhost:8080/",
     "height": 35
    },
    "colab_type": "code",
    "graffitiCellId": "id_5ak1ma6",
    "id": "6ImQ-nSyqbcW",
    "outputId": "ac1e5e0a-820d-4e3e-dc14-e1cf2cda998b"
   },
   "outputs": [
    {
     "name": "stdout",
     "output_type": "stream",
     "text": [
      "modus dari data tersebut adalah  5\n"
     ]
    }
   ],
   "source": [
    "import statistics as stat\n",
    "\n",
    "data=[1, 2, 3, 4, 5, 5]\n",
    "\n",
    "print(\"modus dari data tersebut adalah \", stat.mode(data))"
   ]
  }
 ],
 "metadata": {
  "colab": {
   "include_colab_link": true,
   "name": "Implementasi Ukuran Pemusatan Data Menggunakan Python.ipynb",
   "provenance": [],
   "version": "0.3.2"
  },
  "graffiti": {
   "firstAuthorId": "dev",
   "id": "id_fj5s3ir",
   "language": "EN"
  },
  "kernelspec": {
   "display_name": "Python 3",
   "language": "python",
   "name": "python3"
  },
  "language_info": {
   "codemirror_mode": {
    "name": "ipython",
    "version": 3
   },
   "file_extension": ".py",
   "mimetype": "text/x-python",
   "name": "python",
   "nbconvert_exporter": "python",
   "pygments_lexer": "ipython3",
   "version": "3.7.3"
  }
 },
 "nbformat": 4,
 "nbformat_minor": 1
}

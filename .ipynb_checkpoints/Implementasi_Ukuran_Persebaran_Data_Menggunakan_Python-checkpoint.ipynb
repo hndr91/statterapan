{
 "cells": [
  {
   "cell_type": "markdown",
   "metadata": {
    "colab_type": "text",
    "graffitiCellId": "id_uk9i80t",
    "id": "view-in-github"
   },
   "source": [
    "<a href=\"https://colab.research.google.com/github/mnindrazaka/StatistikaTerapan/blob/implementasi-ukuran-persebaran-data/Implementasi_Ukuran_Persebaran_Data_Menggunakan_Python.ipynb\" target=\"_parent\"><img src=\"https://colab.research.google.com/assets/colab-badge.svg\" alt=\"Open In Colab\"/></a>"
   ]
  },
  {
   "cell_type": "markdown",
   "metadata": {
    "colab_type": "text",
    "graffitiCellId": "id_og0yf7u",
    "id": "V1LT3_wfi4SS"
   },
   "source": [
    "# Implementasi Ukuran Persebaran Data Menggunakan Python\n",
    "\n",
    "## 1. Variasi\n",
    "\n",
    "Variasi merupakan ukuran seberapa jauh sebuah kumpulan bilangan dapat tersebar\n",
    "\n",
    "### 1.1 Menggunakan Library Statistics\n",
    "\n",
    "Berikut contoh implementasi pencarian variasi menggunakan library statistics"
   ]
  },
  {
   "cell_type": "code",
   "execution_count": 0,
   "metadata": {
    "colab": {
     "base_uri": "https://localhost:8080/",
     "height": 35
    },
    "colab_type": "code",
    "graffitiCellId": "id_40607qb",
    "id": "qHzYO84jjYsC",
    "outputId": "a6dd12c8-4819-4df8-fc7d-d1b7b3ae443c"
   },
   "outputs": [
    {
     "name": "stdout",
     "output_type": "stream",
     "text": [
      "varian dari data tersebut adalah  415.8392857142857\n"
     ]
    }
   ],
   "source": [
    "import statistics as stat\n",
    "\n",
    "data=[10, 51, 63, 43, 64, 23, 64, 57]\n",
    "\n",
    "print(\"varian dari data tersebut adalah \", stat.variance(data))"
   ]
  },
  {
   "cell_type": "markdown",
   "metadata": {
    "colab_type": "text",
    "graffitiCellId": "id_klzttmn",
    "id": "PyrORW0Pe8Zd"
   },
   "source": [
    "### 1.2 Menggunakan Library Numpy\n",
    "\n",
    "Berikut contoh implementasi pencarian variasi menggunakan library numpy"
   ]
  },
  {
   "cell_type": "code",
   "execution_count": 1,
   "metadata": {
    "colab": {
     "base_uri": "https://localhost:8080/",
     "height": 35
    },
    "colab_type": "code",
    "graffitiCellId": "id_5y5cr7n",
    "id": "rGFY80WkfDZs",
    "outputId": "79d286a5-f61b-46a0-b4b0-30fabcb3e7b4"
   },
   "outputs": [
    {
     "name": "stdout",
     "output_type": "stream",
     "text": [
      "varian dari data tersebut adalah  363.859375\n"
     ]
    }
   ],
   "source": [
    "import numpy as np  \n",
    "\n",
    "data=[10, 51, 63, 43, 64, 23, 64, 57]\n",
    "\n",
    "print(\"varian dari data tersebut adalah \", np.var(data))"
   ]
  },
  {
   "cell_type": "markdown",
   "metadata": {
    "colab_type": "text",
    "graffitiCellId": "id_m9dm86t",
    "id": "1Azps_9tjaPQ"
   },
   "source": [
    "## 2. Standard Deviasi\n",
    "\n",
    "Standar deviasi merupakan nilai statistik yang digunakan untuk menentukan bagaimana sebaran data dalam sampel, dan seberapa dekat titik data individu ke mean atau rata - rata nilai sampel\n",
    "\n",
    "### 2.1 Menggunakan Library Statistics\n",
    "\n",
    "Berikut contoh implementasi pencarian standard deviasi menggunakan library statistics"
   ]
  },
  {
   "cell_type": "code",
   "execution_count": 0,
   "metadata": {
    "colab": {
     "base_uri": "https://localhost:8080/",
     "height": 35
    },
    "colab_type": "code",
    "graffitiCellId": "id_vdgr971",
    "id": "H2isBZ1ejf9B",
    "outputId": "949e6e7a-9509-4918-cae7-5620776acb31"
   },
   "outputs": [
    {
     "name": "stdout",
     "output_type": "stream",
     "text": [
      "standard deviasi dari data tersebut adalah  20.392137840704336\n"
     ]
    }
   ],
   "source": [
    "import statistics as stat\n",
    "\n",
    "data=[10, 51, 63, 43, 64, 23, 64, 57]\n",
    "\n",
    "print(\"standard deviasi dari data tersebut adalah \", stat.stdev(data))"
   ]
  },
  {
   "cell_type": "markdown",
   "metadata": {
    "colab_type": "text",
    "graffitiCellId": "id_yholjlj",
    "id": "zrMhBwqGfMDK"
   },
   "source": [
    "### 2.1 Menggunakan Library Numpy\n",
    "\n",
    "Berikut contoh implementasi pencarian standard deviasi menggunakan library numpy"
   ]
  },
  {
   "cell_type": "code",
   "execution_count": 3,
   "metadata": {
    "colab": {
     "base_uri": "https://localhost:8080/",
     "height": 35
    },
    "colab_type": "code",
    "graffitiCellId": "id_oub45o8",
    "id": "n3W5E4HefN96",
    "outputId": "33c170bf-82a3-4d3a-c7be-88ccdfb23a85"
   },
   "outputs": [
    {
     "name": "stdout",
     "output_type": "stream",
     "text": [
      "standard deviasi dari data tersebut adalah  19.07509829594595\n"
     ]
    }
   ],
   "source": [
    "import numpy as np  \n",
    "\n",
    "data=[10, 51, 63, 43, 64, 23, 64, 57]\n",
    "\n",
    "print(\"standard deviasi dari data tersebut adalah \", np.std(data))"
   ]
  }
 ],
 "metadata": {
  "colab": {
   "include_colab_link": true,
   "name": "Implementasi Ukuran Persebaran Data Menggunakan Python.ipynb",
   "provenance": [],
   "version": "0.3.2"
  },
  "graffiti": {
   "firstAuthorId": "dev",
   "id": "id_n78ywyl",
   "language": "EN"
  },
  "kernelspec": {
   "display_name": "Python 3",
   "language": "python",
   "name": "python3"
  },
  "language_info": {
   "codemirror_mode": {
    "name": "ipython",
    "version": 3
   },
   "file_extension": ".py",
   "mimetype": "text/x-python",
   "name": "python",
   "nbconvert_exporter": "python",
   "pygments_lexer": "ipython3",
   "version": "3.7.3"
  }
 },
 "nbformat": 4,
 "nbformat_minor": 1
}
